{
 "cells": [
  {
   "cell_type": "code",
   "execution_count": 2,
   "id": "1bea4f20",
   "metadata": {},
   "outputs": [
    {
     "data": {
      "text/plain": [
       "[[1800, 21, 0],\n",
       " [1500, 54, 2],\n",
       " [2200, 28, 3],\n",
       " [3000, 37, 1],\n",
       " [2172, 37, 2],\n",
       " [5000, 32, 0],\n",
       " [1400, 23, 0],\n",
       " [1200, 25, 1],\n",
       " [1100, 19, 0],\n",
       " [1300, 31, 2]]"
      ]
     },
     "metadata": {},
     "output_type": "display_data"
    }
   ],
   "source": [
    "#L'ensemble des ces informations sont rassemblées dans la liste tableau suivante :\n",
    "hugo = [1800, 21, 0]\n",
    "richard = [1500, 54, 2]\n",
    "emilie = [2200, 28, 3]\n",
    "pierre = [3000, 37, 1]\n",
    "paul = [2172, 37, 2]\n",
    "deborah = [5000, 32, 0]\n",
    "yohann = [1400, 23, 0]\n",
    "anne = [1200, 25, 1]\n",
    "thibault = [1100, 19, 0]\n",
    "emmanuel = [1300, 31, 2]\n",
    "\n",
    "tableau = [hugo, richard, emilie, pierre, paul, deborah,\n",
    "           yohann, anne, thibault, emmanuel]\n",
    "\n",
    "display(tableau)"
   ]
  },
  {
   "cell_type": "code",
   "execution_count": 3,
   "id": "863e90e0",
   "metadata": {},
   "outputs": [
    {
     "name": "stdout",
     "output_type": "stream",
     "text": [
      "[[1800   21    0]\n",
      " [1500   54    2]\n",
      " [2200   28    3]\n",
      " [3000   37    1]\n",
      " [2172   37    2]\n",
      " [5000   32    0]\n",
      " [1400   23    0]\n",
      " [1200   25    1]\n",
      " [1100   19    0]\n",
      " [1300   31    2]]\n"
     ]
    }
   ],
   "source": [
    "#A partir de cette liste, créez un array que vous nommerez data :\n",
    "import numpy as np\n",
    "\n",
    "hugo = [1800, 21, 0]\n",
    "richard = [1500, 54, 2]\n",
    "emilie = [2200, 28, 3]\n",
    "pierre = [3000, 37, 1]\n",
    "paul = [2172, 37, 2]\n",
    "deborah = [5000, 32, 0]\n",
    "yohann = [1400, 23, 0]\n",
    "anne = [1200, 25, 1]\n",
    "thibault = [1100, 19, 0]\n",
    "emmanuel = [1300, 31, 2]\n",
    "\n",
    "tableau = np.array([hugo, richard, emilie, pierre, paul, deborah, yohann, anne, thibault, emmanuel])\n",
    "\n",
    "data = tableau  # Renommez le tableau pour l'appeler \"data\"\n",
    "\n",
    "print(data)\n"
   ]
  },
  {
   "cell_type": "code",
   "execution_count": 4,
   "id": "383246ba",
   "metadata": {},
   "outputs": [
    {
     "name": "stdout",
     "output_type": "stream",
     "text": [
      "Informations relatives à Paul :\n",
      "Revenu mensuel de Paul : 2172\n",
      "Âge de Paul : 37\n",
      "Nombre d'enfants à charge de Paul : 2\n",
      "Mensualités maximales pour Paul : 760.1999999999999\n"
     ]
    }
   ],
   "source": [
    "#Paul souhaiterait contracter un prêt immobilier :\n",
    "\n",
    "#affichez les informations qui lui sont relatives. Pour rappel, Paul correspond à la 5ème ligne de nos données\n",
    "#calculez ses mensualités maximales, en sachant que le taux d'endettement maximum est de 35% (il ne pourra donc pas rembourser par mois plus de 35% de son revenu).\n",
    "import numpy as np\n",
    "\n",
    "# Créer le tableau \"data\" à partir de la liste des clients\n",
    "hugo = [1800, 21, 0]\n",
    "richard = [1500, 54, 2]\n",
    "emilie = [2200, 28, 3]\n",
    "pierre = [3000, 37, 1]\n",
    "paul = [2172, 37, 2]\n",
    "deborah = [5000, 32, 0]\n",
    "yohann = [1400, 23, 0]\n",
    "anne = [1200, 25, 1]\n",
    "thibault = [1100, 19, 0]\n",
    "emmanuel = [1300, 31, 2]\n",
    "\n",
    "data = np.array([hugo, richard, emilie, pierre, paul, deborah, yohann, anne, thibault, emmanuel])\n",
    "\n",
    "# Afficher les informations relatives à Paul (5ème ligne)\n",
    "infos_paul = data[4]  \n",
    "\n",
    "revenu_paul = infos_paul[0]\n",
    "age_paul = infos_paul[1]\n",
    "enfants_paul = infos_paul[2]\n",
    "\n",
    "print(\"Informations relatives à Paul :\")\n",
    "print(\"Revenu mensuel de Paul :\", revenu_paul)\n",
    "print(\"Âge de Paul :\", age_paul)\n",
    "print(\"Nombre d'enfants à charge de Paul :\", enfants_paul)\n",
    "\n",
    "# Calculer les mensualités maximales pour Paul (35% de son revenu mensuel)\n",
    "taux_endettement_max = 0.35\n",
    "mensualites_max_paul = revenu_paul * taux_endettement_max\n",
    "\n",
    "print(\"Mensualités maximales pour Paul :\", mensualites_max_paul)\n"
   ]
  },
  {
   "cell_type": "code",
   "execution_count": 5,
   "id": "6da30388",
   "metadata": {},
   "outputs": [
    {
     "name": "stdout",
     "output_type": "stream",
     "text": [
      "Tableau mis à jour avec Louise :\n",
      "[[1800   21    0]\n",
      " [1500   54    2]\n",
      " [2200   28    3]\n",
      " [3000   37    1]\n",
      " [2172   37    2]\n",
      " [5000   32    0]\n",
      " [1400   23    0]\n",
      " [1200   25    1]\n",
      " [1100   19    0]\n",
      " [1300   31    2]\n",
      " [1900   31    1]]\n"
     ]
    }
   ],
   "source": [
    "#Un nouveau client vient d'arriver, dont les informations sont les suivantes :\n",
    "#louise = [1900, 31, 1]\n",
    "import numpy as np\n",
    "\n",
    "# Les données existantes\n",
    "hugo = [1800, 21, 0]\n",
    "richard = [1500, 54, 2]\n",
    "emilie = [2200, 28, 3]\n",
    "pierre = [3000, 37, 1]\n",
    "paul = [2172, 37, 2]\n",
    "deborah = [5000, 32, 0]\n",
    "yohann = [1400, 23, 0]\n",
    "anne = [1200, 25, 1]\n",
    "thibault = [1100, 19, 0]\n",
    "emmanuel = [1300, 31, 2]\n",
    "\n",
    "data = np.array([hugo, richard, emilie, pierre, paul, deborah, yohann, anne, thibault, emmanuel])\n",
    "\n",
    "# Nouveau client \"Louise\"\n",
    "louise = [1900, 31, 1]\n",
    "\n",
    "# Ajouter Louise au tableau \"data\"\n",
    "data = np.vstack([data, louise])\n",
    "\n",
    "print(\"Tableau mis à jour avec Louise :\")\n",
    "print(data)\n"
   ]
  },
  {
   "cell_type": "code",
   "execution_count": 6,
   "id": "e62728ee",
   "metadata": {},
   "outputs": [
    {
     "name": "stdout",
     "output_type": "stream",
     "text": [
      "[1800 1500 2200 3000 2172 5000 1400 1200 1100 1300 1900]\n"
     ]
    }
   ],
   "source": [
    "#Stockez enfin l'ensemble des informations de salaire de notre clientèle dans une variable revenus :\n",
    "revenus = data[:, 0]\n",
    "\n",
    "print(revenus)\n"
   ]
  },
  {
   "cell_type": "code",
   "execution_count": null,
   "id": "41b86d23",
   "metadata": {},
   "outputs": [],
   "source": []
  }
 ],
 "metadata": {
  "kernelspec": {
   "display_name": "Python 3 (ipykernel)",
   "language": "python",
   "name": "python3"
  },
  "language_info": {
   "codemirror_mode": {
    "name": "ipython",
    "version": 3
   },
   "file_extension": ".py",
   "mimetype": "text/x-python",
   "name": "python",
   "nbconvert_exporter": "python",
   "pygments_lexer": "ipython3",
   "version": "3.11.5"
  }
 },
 "nbformat": 4,
 "nbformat_minor": 5
}
