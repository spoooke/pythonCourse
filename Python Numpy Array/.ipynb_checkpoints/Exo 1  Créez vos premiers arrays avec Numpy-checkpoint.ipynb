{
 "cells": [
  {
   "cell_type": "code",
   "execution_count": 1,
   "id": "a5baf729",
   "metadata": {},
   "outputs": [],
   "source": [
    "#Créez vos premiers arrays avec Numpy\n",
    "import numpy as np"
   ]
  },
  {
   "cell_type": "code",
   "execution_count": 2,
   "id": "75f41969",
   "metadata": {},
   "outputs": [],
   "source": [
    "liste = [1800, 1500, 2200, 3000, 2172, 5000, 1400, 1200, 1100, 1300]"
   ]
  },
  {
   "cell_type": "code",
   "execution_count": 3,
   "id": "da519313",
   "metadata": {},
   "outputs": [],
   "source": [
    "import numpy as np\n",
    "\n",
    "revenus = np.array([1800, 1500, 2200, 3000, 2172, 5000, 1400, 1200, 1100, 1300])\n"
   ]
  },
  {
   "cell_type": "code",
   "execution_count": 4,
   "id": "2bf3c43a",
   "metadata": {},
   "outputs": [
    {
     "name": "stdout",
     "output_type": "stream",
     "text": [
      "[3000 5000]\n"
     ]
    }
   ],
   "source": [
    "import numpy as np\n",
    "\n",
    "revenus = np.array([1800, 1500, 2200, 3000, 2172, 5000, 1400, 1200, 1100, 1300])\n",
    "\n",
    "haut_revenus = revenus[revenus >= 3000]\n",
    "\n",
    "print(haut_revenus)\n"
   ]
  },
  {
   "cell_type": "code",
   "execution_count": 5,
   "id": "e00d74aa",
   "metadata": {},
   "outputs": [
    {
     "name": "stdout",
     "output_type": "stream",
     "text": [
      "Somme annuelle des revenus : 248064\n",
      "Moyenne des revenus des 10 clients : 2067.2\n"
     ]
    }
   ],
   "source": [
    "import numpy as np\n",
    "\n",
    "revenus = np.array([1800, 1500, 2200, 3000, 2172, 5000, 1400, 1200, 1100, 1300])\n",
    "\n",
    "# Somme annuelle des revenus (en multipliant par 12 pour passer de mensuel à annuel)\n",
    "somme_annuelle = np.sum(revenus) * 12\n",
    "\n",
    "# Moyenne des revenus des 10 clients\n",
    "moyenne_revenus = np.mean(revenus)\n",
    "\n",
    "print(\"Somme annuelle des revenus :\", somme_annuelle)\n",
    "print(\"Moyenne des revenus des 10 clients :\", moyenne_revenus)\n"
   ]
  },
  {
   "cell_type": "code",
   "execution_count": 6,
   "id": "d9b9f7fc",
   "metadata": {},
   "outputs": [
    {
     "name": "stdout",
     "output_type": "stream",
     "text": [
      "Nouveaux revenus après la promotion : [1800 1500 2200 3000 2172 5000 1600 1200 1100 1300]\n"
     ]
    }
   ],
   "source": [
    "import numpy as np\n",
    "\n",
    "revenus = np.array([1800, 1500, 2200, 3000, 2172, 5000, 1400, 1200, 1100, 1300])\n",
    "\n",
    "# Indice du client dont les revenus sont à modifier (à partir de 0)\n",
    "client_a_modifier = 6  # Le client dont les revenus mensuels étaient de 1400 €\n",
    "\n",
    "# Nouveau revenu du client après la promotion\n",
    "nouveau_revenu = 1400 + 200\n",
    "\n",
    "# Effectuer la modification\n",
    "revenus[client_a_modifier] = nouveau_revenu\n",
    "\n",
    "print(\"Nouveaux revenus après la promotion :\", revenus)\n"
   ]
  },
  {
   "cell_type": "code",
   "execution_count": null,
   "id": "09d89142",
   "metadata": {},
   "outputs": [],
   "source": []
  }
 ],
 "metadata": {
  "kernelspec": {
   "display_name": "Python 3 (ipykernel)",
   "language": "python",
   "name": "python3"
  },
  "language_info": {
   "codemirror_mode": {
    "name": "ipython",
    "version": 3
   },
   "file_extension": ".py",
   "mimetype": "text/x-python",
   "name": "python",
   "nbconvert_exporter": "python",
   "pygments_lexer": "ipython3",
   "version": "3.11.5"
  }
 },
 "nbformat": 4,
 "nbformat_minor": 5
}
