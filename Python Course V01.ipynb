{
 "cells": [
  {
   "cell_type": "code",
   "execution_count": 1,
   "id": "34c42703",
   "metadata": {},
   "outputs": [
    {
     "name": "stdout",
     "output_type": "stream",
     "text": [
      "Vos économies sont de:  3500\n"
     ]
    }
   ],
   "source": [
    "#Exo1\n",
    "\n",
    "compte = 200\n",
    "economies = 3000\n",
    "    \n",
    "# A FAIRE: modifiez la ligne suivante avec l'opérateur simplifié +=\n",
    "economies += 500\n",
    "\n",
    "print(\"Vos économies sont de: \", economies)\n"
   ]
  },
  {
   "cell_type": "code",
   "execution_count": 2,
   "id": "92c75d54",
   "metadata": {},
   "outputs": [
    {
     "name": "stdout",
     "output_type": "stream",
     "text": [
      "75\n"
     ]
    }
   ],
   "source": [
    "#Exo2\n",
    "\n",
    "compteEpargne = 10000\n",
    "taux = 0.75\n",
    "\n",
    "interets = compteEpargne * (taux / 100)\n",
    "\n",
    "# Transformation de interets en entier\n",
    "interets = int(interets)\n",
    "\n",
    "print(interets)"
   ]
  },
  {
   "cell_type": "code",
   "execution_count": 1,
   "id": "4f90f4c7",
   "metadata": {},
   "outputs": [
    {
     "name": "stdout",
     "output_type": "stream",
     "text": [
      "je suis enerve !!\n"
     ]
    }
   ],
   "source": [
    "maPhrase = 'JE SUIS ENERVE !!'\n",
    "maPhrase = maPhrase.lower()\n",
    "\n",
    "print(maPhrase)\n"
   ]
  },
  {
   "cell_type": "code",
   "execution_count": 2,
   "id": "68f950a1",
   "metadata": {},
   "outputs": [
    {
     "name": "stdout",
     "output_type": "stream",
     "text": [
      "je suis calme !!\n"
     ]
    }
   ],
   "source": [
    "maPhrase = 'JE SUIS ENERVE !!'\n",
    "maPhrase = maPhrase.lower()  # Conversion en minuscules\n",
    "maPhrase = maPhrase.replace('enerve', 'calme')\n",
    "\n",
    "print(maPhrase)\n"
   ]
  },
  {
   "cell_type": "code",
   "execution_count": 4,
   "id": "640b8b66",
   "metadata": {},
   "outputs": [],
   "source": [
    "# Exo3: Une liste pour les gouverner tous\n",
    "\n",
    "#Déclarez une liste couleurs contenant 5 éléments : rouge, jaune, orange, vert et bleu.\n",
    "\n",
    "couleurs =couleurs = [\"rouge\", \"jaune\", \"orange\", \"vert\", \"bleu\"]\n"
   ]
  },
  {
   "cell_type": "code",
   "execution_count": 5,
   "id": "9ec3eee1",
   "metadata": {},
   "outputs": [],
   "source": [
    "couleurs = [\"rouge\", \"jaune\", \"orange\", \"vert\", \"bleu\"]\n",
    "# Remplacer \"vert\" par \"émeraude\"\n",
    "couleurs[3] = \"émeraude\"\n"
   ]
  },
  {
   "cell_type": "code",
   "execution_count": 6,
   "id": "d07ceeb4",
   "metadata": {},
   "outputs": [
    {
     "name": "stdout",
     "output_type": "stream",
     "text": [
      "rouge\n",
      "jaune\n",
      "orange\n",
      "émeraude\n",
      "bleu\n"
     ]
    }
   ],
   "source": [
    "couleurs = [\"rouge\", \"jaune\", \"orange\", \"émeraude\", \"bleu\"]\n",
    "\n",
    "for couleur in couleurs:\n",
    "    print(couleur)\n"
   ]
  },
  {
   "cell_type": "code",
   "execution_count": 7,
   "id": "634c1d28",
   "metadata": {},
   "outputs": [],
   "source": [
    "#Exo4: Ajouter des éléments à une liste\n",
    "\n",
    "#Remplacez les ?? par le code adéquat pour créer une liste vide :\n",
    "\n",
    "invites = []\n"
   ]
  },
  {
   "cell_type": "code",
   "execution_count": 8,
   "id": "3f6f76e4",
   "metadata": {},
   "outputs": [],
   "source": [
    "#Ajoutez 3 invités à la liste : Joey, Martin et Marie\n",
    "invites = []  # Créez une liste vide\n",
    "\n",
    "# Ajouter les invités à la liste\n",
    "invites.append(\"Joey\")\n",
    "invites.append(\"Martin\")\n",
    "invites.append(\"Marie\")\n"
   ]
  },
  {
   "cell_type": "code",
   "execution_count": 9,
   "id": "c866591e",
   "metadata": {},
   "outputs": [
    {
     "name": "stdout",
     "output_type": "stream",
     "text": [
      "La taille de la liste invites est : 3\n"
     ]
    }
   ],
   "source": [
    "#Affichez la taille de la liste :\n",
    "invites = [\"Joey\", \"Martin\", \"Marie\"]  # Liste avec 3 invités\n",
    "\n",
    "# Afficher la taille de la liste\n",
    "taille = len(invites)\n",
    "print(\"La taille de la liste invites est :\", taille)\n"
   ]
  },
  {
   "cell_type": "code",
   "execution_count": 10,
   "id": "8d190f43",
   "metadata": {},
   "outputs": [],
   "source": [
    "#Remplacez Martin par John dans la liste :\n",
    "invites = [\"Joey\", \"Martin\", \"Marie\"]  # Liste avec 3 invités\n",
    "\n",
    "# Remplacer \"Martin\" par \"John\"\n",
    "index_martin = invites.index(\"Martin\")\n",
    "invites[index_martin] = \"John\"\n"
   ]
  },
  {
   "cell_type": "code",
   "execution_count": 11,
   "id": "1ae6f5d3",
   "metadata": {},
   "outputs": [],
   "source": [
    "#Supprimez Joey de la liste :\n",
    "invites = [\"Joey\", \"John\", \"Marie\"]  # Liste avec 3 invités\n",
    "\n",
    "# Supprimer \"Joey\" de la liste\n",
    "invites.remove(\"Joey\")\n"
   ]
  },
  {
   "cell_type": "code",
   "execution_count": 12,
   "id": "94fe2ae4",
   "metadata": {},
   "outputs": [
    {
     "name": "stdout",
     "output_type": "stream",
     "text": [
      "John\n",
      "Marie\n"
     ]
    }
   ],
   "source": [
    "#Affichez le contenu de la liste :\n",
    "invites = [\"John\", \"Marie\"]  # Liste avec 2 invités (Joey a été supprimé)\n",
    "\n",
    "# Afficher le contenu de la liste\n",
    "for invite in invites:\n",
    "    print(invite)\n"
   ]
  },
  {
   "cell_type": "code",
   "execution_count": 1,
   "id": "0ff68b00",
   "metadata": {
    "scrolled": false
   },
   "outputs": [
    {
     "name": "stdout",
     "output_type": "stream",
     "text": [
      "Ceci est un exemple de boucle for.\n",
      "Ceci est un exemple de boucle for.\n",
      "Ceci est un exemple de boucle for.\n",
      "Ceci est un exemple de boucle for.\n",
      "Ceci est un exemple de boucle for.\n"
     ]
    }
   ],
   "source": [
    "for i in range(5):\n",
    "    print(\"Ceci est un exemple de boucle for.\")\n",
    "\n"
   ]
  },
  {
   "cell_type": "code",
   "execution_count": 17,
   "id": "c265029b",
   "metadata": {
    "scrolled": false
   },
   "outputs": [
    {
     "name": "stdout",
     "output_type": "stream",
     "text": [
      "OpenClassRooms est vraiment top !\n",
      "OpenClassRooms est vraiment top !\n",
      "OpenClassRooms est vraiment top !\n",
      "OpenClassRooms est vraiment top !\n",
      "OpenClassRooms est vraiment top !\n"
     ]
    }
   ],
   "source": [
    "#Changez votre boucle for par une boucle while :\n",
    "count = 0\n",
    "while count < 5:\n",
    "    print(\"OpenClassRooms est vraiment top !\")\n",
    "    count += 1\n"
   ]
  },
  {
   "cell_type": "code",
   "execution_count": null,
   "id": "6520648b",
   "metadata": {},
   "outputs": [],
   "source": []
  }
 ],
 "metadata": {
  "kernelspec": {
   "display_name": "Python 3",
   "language": "python",
   "name": "python3"
  },
  "language_info": {
   "codemirror_mode": {
    "name": "ipython",
    "version": 3
   },
   "file_extension": ".py",
   "mimetype": "text/x-python",
   "name": "python",
   "nbconvert_exporter": "python",
   "pygments_lexer": "ipython3",
   "version": "3.11.1 (v3.11.1:a7a450f84a, Dec  6 2022, 15:24:06) [Clang 13.0.0 (clang-1300.0.29.30)]"
  },
  "vscode": {
   "interpreter": {
    "hash": "aee8b7b246df8f9039afb4144a1f6fd8d2ca17a180786b69acc140d282b71a49"
   }
  }
 },
 "nbformat": 4,
 "nbformat_minor": 5
}
