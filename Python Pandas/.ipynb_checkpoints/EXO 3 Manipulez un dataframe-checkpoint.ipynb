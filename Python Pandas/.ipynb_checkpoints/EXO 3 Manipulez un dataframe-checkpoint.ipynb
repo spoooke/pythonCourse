{
 "cells": [
  {
   "cell_type": "code",
   "execution_count": 2,
   "id": "5ae2b64e",
   "metadata": {},
   "outputs": [],
   "source": [
    "import numpy as np\n",
    "import pandas as pd"
   ]
  },
  {
   "cell_type": "code",
   "execution_count": 4,
   "id": "1d018f36",
   "metadata": {},
   "outputs": [],
   "source": [
    "import numpy as np\n",
    "import pandas as pd"
   ]
  },
  {
   "cell_type": "code",
   "execution_count": 5,
   "id": "4c87f09c",
   "metadata": {
    "scrolled": true
   },
   "outputs": [
    {
     "name": "stdout",
     "output_type": "stream",
     "text": [
      "   identifiant      ville     CP  revenu  remboursement  duree        type  \\\n",
      "0            0   TOULOUSE  31100  3669.0        1130.05    240  immobilier   \n",
      "1            1      PARIS  75009  5310.0         240.00     64  automobile   \n",
      "2            1      PARIS  75009  5310.0        1247.85    300  immobilier   \n",
      "3            2  MARSEILLE  13010  1873.0         552.54    240  immobilier   \n",
      "4            3  MARSEILLE  13010  1684.0         586.03    180  immobilier   \n",
      "\n",
      "    taux  \n",
      "0  1.168  \n",
      "1  3.701  \n",
      "2  1.173  \n",
      "3  0.972  \n",
      "4  1.014  \n"
     ]
    }
   ],
   "source": [
    "import pandas as pd\n",
    "import numpy as np\n",
    "\n",
    "# Chemin complet du fichier CSV\n",
    "file_path = \"/Users/sebastiengillio/Desktop/Perso/CODE/Python/Python Pandas Course/manipulezUnDataframe - dataJoint/raw.githubusercontent.com_OpenClassrooms-Student-Center_fr-4452741-decouvrez-les-librairies-python-pour-la-data-science_main_data_prets.csv\"\n",
    "\n",
    "# Charger le fichier de données\n",
    "df = pd.read_csv(file_path)\n",
    "\n",
    "# Afficher les premières lignes pour vérifier l'importation\n",
    "print(df.head())\n"
   ]
  },
  {
   "cell_type": "code",
   "execution_count": 8,
   "id": "af03ecb3",
   "metadata": {},
   "outputs": [],
   "source": [
    "# Calcul du taux d'endettement\n",
    "df['taux_endettement'] = (df['remboursement'] / df['revenu']) * 100\n",
    "df['taux_endettement'] = df['taux_endettement'].round(2)\n"
   ]
  },
  {
   "cell_type": "code",
   "execution_count": 9,
   "id": "78bc0d77",
   "metadata": {},
   "outputs": [],
   "source": [
    "#Pour éviter toute confusion, renommez la variable taux en taux_interet :\n",
    "# Renommer la colonne \"taux\" en \"taux_interet\"\n",
    "df = df.rename(columns={'taux': 'taux_interet'})\n"
   ]
  },
  {
   "cell_type": "code",
   "execution_count": null,
   "id": "62083b13",
   "metadata": {},
   "outputs": [],
   "source": []
  }
 ],
 "metadata": {
  "kernelspec": {
   "display_name": "Python 3 (ipykernel)",
   "language": "python",
   "name": "python3"
  },
  "language_info": {
   "codemirror_mode": {
    "name": "ipython",
    "version": 3
   },
   "file_extension": ".py",
   "mimetype": "text/x-python",
   "name": "python",
   "nbconvert_exporter": "python",
   "pygments_lexer": "ipython3",
   "version": "3.11.5"
  }
 },
 "nbformat": 4,
 "nbformat_minor": 5
}
